{
 "cells": [
  {
   "attachments": {},
   "cell_type": "markdown",
   "metadata": {},
   "source": [
    "### 메가박스 크롤링"
   ]
  },
  {
   "attachments": {},
   "cell_type": "markdown",
   "metadata": {},
   "source": [
    "필드 : \n",
    "- theater_type : 영화관 종류 - (CGV)\n",
    "- theater_name - (용산점)\n",
    "- location - (서올, 경기, 인천)\n",
    "- movie_title - (스즈메의 문단속)\n",
    "- start_time - (hh:MM)\n",
    "- run_time - (169) 분 단위"
   ]
  },
  {
   "cell_type": "code",
   "execution_count": 6,
   "metadata": {},
   "outputs": [],
   "source": [
    "from bs4 import BeautifulSoup\n",
    "import urllib.request\n",
    "import pandas as pd\n",
    "import numpy as np\n",
    "import datetime\n",
    "from selenium import webdriver\n",
    "from selenium.webdriver.chrome.service import Service #\n",
    "from webdriver_manager.chrome import ChromeDriverManager # \n",
    "from selenium.webdriver.common.by import By\n",
    "\n",
    "import time \n",
    "\n",
    "import os\n",
    "import traceback\n",
    "import re"
   ]
  },
  {
   "cell_type": "code",
   "execution_count": 59,
   "metadata": {},
   "outputs": [
    {
     "name": "stderr",
     "output_type": "stream",
     "text": [
      "/var/folders/g8/bg0h24y523q9pwn2yvvhsc900000gn/T/ipykernel_43879/2326686993.py:5: DeprecationWarning: executable_path has been deprecated, please pass in a Service object\n",
      "  driver = webdriver.Chrome(ChromeDriverManager().install())\n",
      "/var/folders/g8/bg0h24y523q9pwn2yvvhsc900000gn/T/ipykernel_43879/3258880229.py:7: DeprecationWarning: executable_path has been deprecated, please pass in a Service object\n",
      "  driver_detail = webdriver.Chrome(ChromeDriverManager().install(), options=webdriver_options )\n"
     ]
    },
    {
     "ename": "KeyboardInterrupt",
     "evalue": "",
     "output_type": "error",
     "traceback": [
      "\u001b[0;31m---------------------------------------------------------------------------\u001b[0m",
      "\u001b[0;31mKeyboardInterrupt\u001b[0m                         Traceback (most recent call last)",
      "Cell \u001b[0;32mIn[59], line 15\u001b[0m\n\u001b[1;32m     13\u001b[0m location \u001b[39m=\u001b[39m {\u001b[39m0\u001b[39m:\u001b[39m'\u001b[39m\u001b[39m서울\u001b[39m\u001b[39m'\u001b[39m, \u001b[39m1\u001b[39m:\u001b[39m'\u001b[39m\u001b[39m경기/인천\u001b[39m\u001b[39m'\u001b[39m, \u001b[39m2\u001b[39m:\u001b[39m'\u001b[39m\u001b[39m경기/인천\u001b[39m\u001b[39m'\u001b[39m}\n\u001b[1;32m     14\u001b[0m \u001b[39mfor\u001b[39;00m i \u001b[39min\u001b[39;00m \u001b[39mrange\u001b[39m(\u001b[39m3\u001b[39m):\n\u001b[0;32m---> 15\u001b[0m     movie_tbl \u001b[39m=\u001b[39m location_crawl(driver, location_elements[i])\n\u001b[1;32m     17\u001b[0m     movie_tbl[\u001b[39m'\u001b[39m\u001b[39mlocation\u001b[39m\u001b[39m'\u001b[39m] \u001b[39m=\u001b[39m location[i]\n",
      "Cell \u001b[0;32mIn[57], line 41\u001b[0m, in \u001b[0;36mlocation_crawl\u001b[0;34m(driver, location_element)\u001b[0m\n\u001b[1;32m     38\u001b[0m     theater_name \u001b[39m=\u001b[39m theater_name_element\u001b[39m.\u001b[39mtext\n\u001b[1;32m     40\u001b[0m     \u001b[39m# 지점별 상영시간 크롤링 \u001b[39;00m\n\u001b[0;32m---> 41\u001b[0m     theater_crawl(result, theater_name, theater_name_url)\n\u001b[1;32m     43\u001b[0m movie_tbl \u001b[39m=\u001b[39m pd\u001b[39m.\u001b[39mDataFrame(result,  columns\u001b[39m=\u001b[39m(\u001b[39m'\u001b[39m\u001b[39mtheater_type\u001b[39m\u001b[39m'\u001b[39m  \u001b[39m'\u001b[39m\u001b[39mtheater_name\u001b[39m\u001b[39m'\u001b[39m \u001b[39m'\u001b[39m\u001b[39mlocation\u001b[39m\u001b[39m'\u001b[39m \u001b[39m'\u001b[39m\u001b[39mmovie_title\u001b[39m\u001b[39m'\u001b[39m \u001b[39m'\u001b[39m\u001b[39mstart_time\u001b[39m\u001b[39m'\u001b[39m \u001b[39m'\u001b[39m\u001b[39mrun_time\u001b[39m\u001b[39m'\u001b[39m))\n\u001b[1;32m     44\u001b[0m \u001b[39mreturn\u001b[39;00m movie_tbl\n",
      "Cell \u001b[0;32mIn[57], line 8\u001b[0m, in \u001b[0;36mtheater_crawl\u001b[0;34m(result, theater_name, theater_name_url)\u001b[0m\n\u001b[1;32m      5\u001b[0m \u001b[39m# webdriver_options.add_argument('headless') # 화면 안보이기\u001b[39;00m\n\u001b[1;32m      7\u001b[0m driver_detail \u001b[39m=\u001b[39m webdriver\u001b[39m.\u001b[39mChrome(ChromeDriverManager()\u001b[39m.\u001b[39minstall(), options\u001b[39m=\u001b[39mwebdriver_options )\n\u001b[0;32m----> 8\u001b[0m driver_detail\u001b[39m.\u001b[39;49mget(theater_name_url)\n\u001b[1;32m      9\u001b[0m driver_detail\u001b[39m.\u001b[39mimplicitly_wait(\u001b[39m2\u001b[39m)\n\u001b[1;32m     11\u001b[0m \u001b[39m# 상영시간표 누르기\u001b[39;00m\n",
      "File \u001b[0;32m~/opt/miniconda3/lib/python3.9/site-packages/selenium/webdriver/remote/webdriver.py:449\u001b[0m, in \u001b[0;36mWebDriver.get\u001b[0;34m(self, url)\u001b[0m\n\u001b[1;32m    447\u001b[0m \u001b[39mdef\u001b[39;00m \u001b[39mget\u001b[39m(\u001b[39mself\u001b[39m, url: \u001b[39mstr\u001b[39m) \u001b[39m-\u001b[39m\u001b[39m>\u001b[39m \u001b[39mNone\u001b[39;00m:\n\u001b[1;32m    448\u001b[0m     \u001b[39m\"\"\"Loads a web page in the current browser session.\"\"\"\u001b[39;00m\n\u001b[0;32m--> 449\u001b[0m     \u001b[39mself\u001b[39;49m\u001b[39m.\u001b[39;49mexecute(Command\u001b[39m.\u001b[39;49mGET, {\u001b[39m\"\u001b[39;49m\u001b[39murl\u001b[39;49m\u001b[39m\"\u001b[39;49m: url})\n",
      "File \u001b[0;32m~/opt/miniconda3/lib/python3.9/site-packages/selenium/webdriver/remote/webdriver.py:438\u001b[0m, in \u001b[0;36mWebDriver.execute\u001b[0;34m(self, driver_command, params)\u001b[0m\n\u001b[1;32m    435\u001b[0m     \u001b[39melif\u001b[39;00m \u001b[39m\"\u001b[39m\u001b[39msessionId\u001b[39m\u001b[39m\"\u001b[39m \u001b[39mnot\u001b[39;00m \u001b[39min\u001b[39;00m params:\n\u001b[1;32m    436\u001b[0m         params[\u001b[39m\"\u001b[39m\u001b[39msessionId\u001b[39m\u001b[39m\"\u001b[39m] \u001b[39m=\u001b[39m \u001b[39mself\u001b[39m\u001b[39m.\u001b[39msession_id\n\u001b[0;32m--> 438\u001b[0m response \u001b[39m=\u001b[39m \u001b[39mself\u001b[39;49m\u001b[39m.\u001b[39;49mcommand_executor\u001b[39m.\u001b[39;49mexecute(driver_command, params)\n\u001b[1;32m    439\u001b[0m \u001b[39mif\u001b[39;00m response:\n\u001b[1;32m    440\u001b[0m     \u001b[39mself\u001b[39m\u001b[39m.\u001b[39merror_handler\u001b[39m.\u001b[39mcheck_response(response)\n",
      "File \u001b[0;32m~/opt/miniconda3/lib/python3.9/site-packages/selenium/webdriver/remote/remote_connection.py:290\u001b[0m, in \u001b[0;36mRemoteConnection.execute\u001b[0;34m(self, command, params)\u001b[0m\n\u001b[1;32m    288\u001b[0m data \u001b[39m=\u001b[39m utils\u001b[39m.\u001b[39mdump_json(params)\n\u001b[1;32m    289\u001b[0m url \u001b[39m=\u001b[39m \u001b[39mf\u001b[39m\u001b[39m\"\u001b[39m\u001b[39m{\u001b[39;00m\u001b[39mself\u001b[39m\u001b[39m.\u001b[39m_url\u001b[39m}\u001b[39;00m\u001b[39m{\u001b[39;00mpath\u001b[39m}\u001b[39;00m\u001b[39m\"\u001b[39m\n\u001b[0;32m--> 290\u001b[0m \u001b[39mreturn\u001b[39;00m \u001b[39mself\u001b[39;49m\u001b[39m.\u001b[39;49m_request(command_info[\u001b[39m0\u001b[39;49m], url, body\u001b[39m=\u001b[39;49mdata)\n",
      "File \u001b[0;32m~/opt/miniconda3/lib/python3.9/site-packages/selenium/webdriver/remote/remote_connection.py:311\u001b[0m, in \u001b[0;36mRemoteConnection._request\u001b[0;34m(self, method, url, body)\u001b[0m\n\u001b[1;32m    308\u001b[0m     body \u001b[39m=\u001b[39m \u001b[39mNone\u001b[39;00m\n\u001b[1;32m    310\u001b[0m \u001b[39mif\u001b[39;00m \u001b[39mself\u001b[39m\u001b[39m.\u001b[39mkeep_alive:\n\u001b[0;32m--> 311\u001b[0m     response \u001b[39m=\u001b[39m \u001b[39mself\u001b[39;49m\u001b[39m.\u001b[39;49m_conn\u001b[39m.\u001b[39;49mrequest(method, url, body\u001b[39m=\u001b[39;49mbody, headers\u001b[39m=\u001b[39;49mheaders)\n\u001b[1;32m    312\u001b[0m     statuscode \u001b[39m=\u001b[39m response\u001b[39m.\u001b[39mstatus\n\u001b[1;32m    313\u001b[0m \u001b[39melse\u001b[39;00m:\n",
      "File \u001b[0;32m~/opt/miniconda3/lib/python3.9/site-packages/urllib3/request.py:78\u001b[0m, in \u001b[0;36mRequestMethods.request\u001b[0;34m(self, method, url, fields, headers, **urlopen_kw)\u001b[0m\n\u001b[1;32m     74\u001b[0m     \u001b[39mreturn\u001b[39;00m \u001b[39mself\u001b[39m\u001b[39m.\u001b[39mrequest_encode_url(\n\u001b[1;32m     75\u001b[0m         method, url, fields\u001b[39m=\u001b[39mfields, headers\u001b[39m=\u001b[39mheaders, \u001b[39m*\u001b[39m\u001b[39m*\u001b[39murlopen_kw\n\u001b[1;32m     76\u001b[0m     )\n\u001b[1;32m     77\u001b[0m \u001b[39melse\u001b[39;00m:\n\u001b[0;32m---> 78\u001b[0m     \u001b[39mreturn\u001b[39;00m \u001b[39mself\u001b[39;49m\u001b[39m.\u001b[39;49mrequest_encode_body(\n\u001b[1;32m     79\u001b[0m         method, url, fields\u001b[39m=\u001b[39;49mfields, headers\u001b[39m=\u001b[39;49mheaders, \u001b[39m*\u001b[39;49m\u001b[39m*\u001b[39;49murlopen_kw\n\u001b[1;32m     80\u001b[0m     )\n",
      "File \u001b[0;32m~/opt/miniconda3/lib/python3.9/site-packages/urllib3/request.py:170\u001b[0m, in \u001b[0;36mRequestMethods.request_encode_body\u001b[0;34m(self, method, url, fields, headers, encode_multipart, multipart_boundary, **urlopen_kw)\u001b[0m\n\u001b[1;32m    167\u001b[0m extra_kw[\u001b[39m\"\u001b[39m\u001b[39mheaders\u001b[39m\u001b[39m\"\u001b[39m]\u001b[39m.\u001b[39mupdate(headers)\n\u001b[1;32m    168\u001b[0m extra_kw\u001b[39m.\u001b[39mupdate(urlopen_kw)\n\u001b[0;32m--> 170\u001b[0m \u001b[39mreturn\u001b[39;00m \u001b[39mself\u001b[39;49m\u001b[39m.\u001b[39;49murlopen(method, url, \u001b[39m*\u001b[39;49m\u001b[39m*\u001b[39;49mextra_kw)\n",
      "File \u001b[0;32m~/opt/miniconda3/lib/python3.9/site-packages/urllib3/poolmanager.py:376\u001b[0m, in \u001b[0;36mPoolManager.urlopen\u001b[0;34m(self, method, url, redirect, **kw)\u001b[0m\n\u001b[1;32m    374\u001b[0m     response \u001b[39m=\u001b[39m conn\u001b[39m.\u001b[39murlopen(method, url, \u001b[39m*\u001b[39m\u001b[39m*\u001b[39mkw)\n\u001b[1;32m    375\u001b[0m \u001b[39melse\u001b[39;00m:\n\u001b[0;32m--> 376\u001b[0m     response \u001b[39m=\u001b[39m conn\u001b[39m.\u001b[39;49murlopen(method, u\u001b[39m.\u001b[39;49mrequest_uri, \u001b[39m*\u001b[39;49m\u001b[39m*\u001b[39;49mkw)\n\u001b[1;32m    378\u001b[0m redirect_location \u001b[39m=\u001b[39m redirect \u001b[39mand\u001b[39;00m response\u001b[39m.\u001b[39mget_redirect_location()\n\u001b[1;32m    379\u001b[0m \u001b[39mif\u001b[39;00m \u001b[39mnot\u001b[39;00m redirect_location:\n",
      "File \u001b[0;32m~/opt/miniconda3/lib/python3.9/site-packages/urllib3/connectionpool.py:703\u001b[0m, in \u001b[0;36mHTTPConnectionPool.urlopen\u001b[0;34m(self, method, url, body, headers, retries, redirect, assert_same_host, timeout, pool_timeout, release_conn, chunked, body_pos, **response_kw)\u001b[0m\n\u001b[1;32m    700\u001b[0m     \u001b[39mself\u001b[39m\u001b[39m.\u001b[39m_prepare_proxy(conn)\n\u001b[1;32m    702\u001b[0m \u001b[39m# Make the request on the httplib connection object.\u001b[39;00m\n\u001b[0;32m--> 703\u001b[0m httplib_response \u001b[39m=\u001b[39m \u001b[39mself\u001b[39;49m\u001b[39m.\u001b[39;49m_make_request(\n\u001b[1;32m    704\u001b[0m     conn,\n\u001b[1;32m    705\u001b[0m     method,\n\u001b[1;32m    706\u001b[0m     url,\n\u001b[1;32m    707\u001b[0m     timeout\u001b[39m=\u001b[39;49mtimeout_obj,\n\u001b[1;32m    708\u001b[0m     body\u001b[39m=\u001b[39;49mbody,\n\u001b[1;32m    709\u001b[0m     headers\u001b[39m=\u001b[39;49mheaders,\n\u001b[1;32m    710\u001b[0m     chunked\u001b[39m=\u001b[39;49mchunked,\n\u001b[1;32m    711\u001b[0m )\n\u001b[1;32m    713\u001b[0m \u001b[39m# If we're going to release the connection in ``finally:``, then\u001b[39;00m\n\u001b[1;32m    714\u001b[0m \u001b[39m# the response doesn't need to know about the connection. Otherwise\u001b[39;00m\n\u001b[1;32m    715\u001b[0m \u001b[39m# it will also try to release it and we'll have a double-release\u001b[39;00m\n\u001b[1;32m    716\u001b[0m \u001b[39m# mess.\u001b[39;00m\n\u001b[1;32m    717\u001b[0m response_conn \u001b[39m=\u001b[39m conn \u001b[39mif\u001b[39;00m \u001b[39mnot\u001b[39;00m release_conn \u001b[39melse\u001b[39;00m \u001b[39mNone\u001b[39;00m\n",
      "File \u001b[0;32m~/opt/miniconda3/lib/python3.9/site-packages/urllib3/connectionpool.py:449\u001b[0m, in \u001b[0;36mHTTPConnectionPool._make_request\u001b[0;34m(self, conn, method, url, timeout, chunked, **httplib_request_kw)\u001b[0m\n\u001b[1;32m    444\u001b[0m             httplib_response \u001b[39m=\u001b[39m conn\u001b[39m.\u001b[39mgetresponse()\n\u001b[1;32m    445\u001b[0m         \u001b[39mexcept\u001b[39;00m \u001b[39mBaseException\u001b[39;00m \u001b[39mas\u001b[39;00m e:\n\u001b[1;32m    446\u001b[0m             \u001b[39m# Remove the TypeError from the exception chain in\u001b[39;00m\n\u001b[1;32m    447\u001b[0m             \u001b[39m# Python 3 (including for exceptions like SystemExit).\u001b[39;00m\n\u001b[1;32m    448\u001b[0m             \u001b[39m# Otherwise it looks like a bug in the code.\u001b[39;00m\n\u001b[0;32m--> 449\u001b[0m             six\u001b[39m.\u001b[39;49mraise_from(e, \u001b[39mNone\u001b[39;49;00m)\n\u001b[1;32m    450\u001b[0m \u001b[39mexcept\u001b[39;00m (SocketTimeout, BaseSSLError, SocketError) \u001b[39mas\u001b[39;00m e:\n\u001b[1;32m    451\u001b[0m     \u001b[39mself\u001b[39m\u001b[39m.\u001b[39m_raise_timeout(err\u001b[39m=\u001b[39me, url\u001b[39m=\u001b[39murl, timeout_value\u001b[39m=\u001b[39mread_timeout)\n",
      "File \u001b[0;32m<string>:3\u001b[0m, in \u001b[0;36mraise_from\u001b[0;34m(value, from_value)\u001b[0m\n",
      "File \u001b[0;32m~/opt/miniconda3/lib/python3.9/site-packages/urllib3/connectionpool.py:444\u001b[0m, in \u001b[0;36mHTTPConnectionPool._make_request\u001b[0;34m(self, conn, method, url, timeout, chunked, **httplib_request_kw)\u001b[0m\n\u001b[1;32m    441\u001b[0m \u001b[39mexcept\u001b[39;00m \u001b[39mTypeError\u001b[39;00m:\n\u001b[1;32m    442\u001b[0m     \u001b[39m# Python 3\u001b[39;00m\n\u001b[1;32m    443\u001b[0m     \u001b[39mtry\u001b[39;00m:\n\u001b[0;32m--> 444\u001b[0m         httplib_response \u001b[39m=\u001b[39m conn\u001b[39m.\u001b[39;49mgetresponse()\n\u001b[1;32m    445\u001b[0m     \u001b[39mexcept\u001b[39;00m \u001b[39mBaseException\u001b[39;00m \u001b[39mas\u001b[39;00m e:\n\u001b[1;32m    446\u001b[0m         \u001b[39m# Remove the TypeError from the exception chain in\u001b[39;00m\n\u001b[1;32m    447\u001b[0m         \u001b[39m# Python 3 (including for exceptions like SystemExit).\u001b[39;00m\n\u001b[1;32m    448\u001b[0m         \u001b[39m# Otherwise it looks like a bug in the code.\u001b[39;00m\n\u001b[1;32m    449\u001b[0m         six\u001b[39m.\u001b[39mraise_from(e, \u001b[39mNone\u001b[39;00m)\n",
      "File \u001b[0;32m~/opt/miniconda3/lib/python3.9/http/client.py:1377\u001b[0m, in \u001b[0;36mHTTPConnection.getresponse\u001b[0;34m(self)\u001b[0m\n\u001b[1;32m   1375\u001b[0m \u001b[39mtry\u001b[39;00m:\n\u001b[1;32m   1376\u001b[0m     \u001b[39mtry\u001b[39;00m:\n\u001b[0;32m-> 1377\u001b[0m         response\u001b[39m.\u001b[39;49mbegin()\n\u001b[1;32m   1378\u001b[0m     \u001b[39mexcept\u001b[39;00m \u001b[39mConnectionError\u001b[39;00m:\n\u001b[1;32m   1379\u001b[0m         \u001b[39mself\u001b[39m\u001b[39m.\u001b[39mclose()\n",
      "File \u001b[0;32m~/opt/miniconda3/lib/python3.9/http/client.py:320\u001b[0m, in \u001b[0;36mHTTPResponse.begin\u001b[0;34m(self)\u001b[0m\n\u001b[1;32m    318\u001b[0m \u001b[39m# read until we get a non-100 response\u001b[39;00m\n\u001b[1;32m    319\u001b[0m \u001b[39mwhile\u001b[39;00m \u001b[39mTrue\u001b[39;00m:\n\u001b[0;32m--> 320\u001b[0m     version, status, reason \u001b[39m=\u001b[39m \u001b[39mself\u001b[39;49m\u001b[39m.\u001b[39;49m_read_status()\n\u001b[1;32m    321\u001b[0m     \u001b[39mif\u001b[39;00m status \u001b[39m!=\u001b[39m CONTINUE:\n\u001b[1;32m    322\u001b[0m         \u001b[39mbreak\u001b[39;00m\n",
      "File \u001b[0;32m~/opt/miniconda3/lib/python3.9/http/client.py:281\u001b[0m, in \u001b[0;36mHTTPResponse._read_status\u001b[0;34m(self)\u001b[0m\n\u001b[1;32m    280\u001b[0m \u001b[39mdef\u001b[39;00m \u001b[39m_read_status\u001b[39m(\u001b[39mself\u001b[39m):\n\u001b[0;32m--> 281\u001b[0m     line \u001b[39m=\u001b[39m \u001b[39mstr\u001b[39m(\u001b[39mself\u001b[39;49m\u001b[39m.\u001b[39;49mfp\u001b[39m.\u001b[39;49mreadline(_MAXLINE \u001b[39m+\u001b[39;49m \u001b[39m1\u001b[39;49m), \u001b[39m\"\u001b[39m\u001b[39miso-8859-1\u001b[39m\u001b[39m\"\u001b[39m)\n\u001b[1;32m    282\u001b[0m     \u001b[39mif\u001b[39;00m \u001b[39mlen\u001b[39m(line) \u001b[39m>\u001b[39m _MAXLINE:\n\u001b[1;32m    283\u001b[0m         \u001b[39mraise\u001b[39;00m LineTooLong(\u001b[39m\"\u001b[39m\u001b[39mstatus line\u001b[39m\u001b[39m\"\u001b[39m)\n",
      "File \u001b[0;32m~/opt/miniconda3/lib/python3.9/socket.py:704\u001b[0m, in \u001b[0;36mSocketIO.readinto\u001b[0;34m(self, b)\u001b[0m\n\u001b[1;32m    702\u001b[0m \u001b[39mwhile\u001b[39;00m \u001b[39mTrue\u001b[39;00m:\n\u001b[1;32m    703\u001b[0m     \u001b[39mtry\u001b[39;00m:\n\u001b[0;32m--> 704\u001b[0m         \u001b[39mreturn\u001b[39;00m \u001b[39mself\u001b[39;49m\u001b[39m.\u001b[39;49m_sock\u001b[39m.\u001b[39;49mrecv_into(b)\n\u001b[1;32m    705\u001b[0m     \u001b[39mexcept\u001b[39;00m timeout:\n\u001b[1;32m    706\u001b[0m         \u001b[39mself\u001b[39m\u001b[39m.\u001b[39m_timeout_occurred \u001b[39m=\u001b[39m \u001b[39mTrue\u001b[39;00m\n",
      "\u001b[0;31mKeyboardInterrupt\u001b[0m: "
     ]
    }
   ],
   "source": [
    "main_url = 'https://www.megabox.co.kr/theater/list'\n",
    "webdriver_options = webdriver.ChromeOptions()\n",
    "# webdriver_options.add_argument('headless') # 화면 안보이기\n",
    "\n",
    "driver = webdriver.Chrome(ChromeDriverManager().install())\n",
    "\n",
    "driver.get(main_url)\n",
    "\n",
    "# 서울, 경기, 인천\n",
    "location_elements = driver.find_elements(By.CSS_SELECTOR, 'li > button.sel-city')\n",
    "\n",
    "# 앞 3개만 크롤링 (서울, 경기, 인천) / 0, 1, 2\n",
    "location = {0:'서울', 1:'경기/인천', 2:'경기/인천'}\n",
    "for i in range(3):\n",
    "    movie_tbl = location_crawl(driver, location_elements[i])\n",
    "    \n",
    "    movie_tbl['location'] = location[i]\n",
    "# driver.quit()\n",
    "\n"
   ]
  },
  {
   "cell_type": "code",
   "execution_count": null,
   "metadata": {},
   "outputs": [],
   "source": [
    "#contents > div > div.theater-box > div.theater-place > ul > li.on > div"
   ]
  },
  {
   "cell_type": "code",
   "execution_count": 42,
   "metadata": {},
   "outputs": [],
   "source": [
    "location_elements[0].click()\n",
    "\n",
    "theater_name_element = driver.find_elements(By.CSS_SELECTOR, 'div.theater-place > ul > li.on > div > ul > li > a')\n",
    "len(theater_name_element)\n",
    "theater_name_url = theater_name_element[0].get_attribute('href')\n",
    "theater_name = theater_name_element[0].text"
   ]
  },
  {
   "cell_type": "code",
   "execution_count": 61,
   "metadata": {},
   "outputs": [
    {
     "ename": "NoSuchWindowException",
     "evalue": "Message: no such window: target window already closed\nfrom unknown error: web view not found\n  (Session info: chrome=112.0.5615.137)\nStacktrace:\n0   chromedriver                        0x00000001012d1670 chromedriver + 4298352\n1   chromedriver                        0x00000001012c9bbc chromedriver + 4266940\n2   chromedriver                        0x0000000100efc758 chromedriver + 280408\n3   chromedriver                        0x0000000100ed6cc8 chromedriver + 126152\n4   chromedriver                        0x0000000100f5caac chromedriver + 674476\n5   chromedriver                        0x0000000100f6f890 chromedriver + 751760\n6   chromedriver                        0x0000000100f2a2d0 chromedriver + 467664\n7   chromedriver                        0x0000000100f2b354 chromedriver + 471892\n8   chromedriver                        0x00000001012916c4 chromedriver + 4036292\n9   chromedriver                        0x0000000101295c64 chromedriver + 4054116\n10  chromedriver                        0x000000010129c2d8 chromedriver + 4080344\n11  chromedriver                        0x0000000101296970 chromedriver + 4057456\n12  chromedriver                        0x000000010126d8dc chromedriver + 3889372\n13  chromedriver                        0x00000001012b525c chromedriver + 4182620\n14  chromedriver                        0x00000001012b53b4 chromedriver + 4182964\n15  chromedriver                        0x00000001012c40f4 chromedriver + 4243700\n16  libsystem_pthread.dylib             0x0000000193b1c26c _pthread_start + 148\n17  libsystem_pthread.dylib             0x0000000193b1708c thread_start + 8\n",
     "output_type": "error",
     "traceback": [
      "\u001b[0;31m---------------------------------------------------------------------------\u001b[0m",
      "\u001b[0;31mNoSuchWindowException\u001b[0m                     Traceback (most recent call last)",
      "Cell \u001b[0;32mIn[61], line 1\u001b[0m\n\u001b[0;32m----> 1\u001b[0m driver_detail\u001b[39m.\u001b[39;49mfind_element(By\u001b[39m.\u001b[39;49mCSS_SELECTOR, \u001b[39m'\u001b[39;49m\u001b[39m#contents > div.inner-wrap.pt40 > div.tab-list.fixed.mb40.tab-layer > ul > li.on > a\u001b[39;49m\u001b[39m'\u001b[39;49m)\u001b[39m.\u001b[39mclick()\n",
      "File \u001b[0;32m~/opt/miniconda3/lib/python3.9/site-packages/selenium/webdriver/remote/webdriver.py:831\u001b[0m, in \u001b[0;36mWebDriver.find_element\u001b[0;34m(self, by, value)\u001b[0m\n\u001b[1;32m    828\u001b[0m     by \u001b[39m=\u001b[39m By\u001b[39m.\u001b[39mCSS_SELECTOR\n\u001b[1;32m    829\u001b[0m     value \u001b[39m=\u001b[39m \u001b[39mf\u001b[39m\u001b[39m'\u001b[39m\u001b[39m[name=\u001b[39m\u001b[39m\"\u001b[39m\u001b[39m{\u001b[39;00mvalue\u001b[39m}\u001b[39;00m\u001b[39m\"\u001b[39m\u001b[39m]\u001b[39m\u001b[39m'\u001b[39m\n\u001b[0;32m--> 831\u001b[0m \u001b[39mreturn\u001b[39;00m \u001b[39mself\u001b[39;49m\u001b[39m.\u001b[39;49mexecute(Command\u001b[39m.\u001b[39;49mFIND_ELEMENT, {\u001b[39m\"\u001b[39;49m\u001b[39musing\u001b[39;49m\u001b[39m\"\u001b[39;49m: by, \u001b[39m\"\u001b[39;49m\u001b[39mvalue\u001b[39;49m\u001b[39m\"\u001b[39;49m: value})[\u001b[39m\"\u001b[39m\u001b[39mvalue\u001b[39m\u001b[39m\"\u001b[39m]\n",
      "File \u001b[0;32m~/opt/miniconda3/lib/python3.9/site-packages/selenium/webdriver/remote/webdriver.py:440\u001b[0m, in \u001b[0;36mWebDriver.execute\u001b[0;34m(self, driver_command, params)\u001b[0m\n\u001b[1;32m    438\u001b[0m response \u001b[39m=\u001b[39m \u001b[39mself\u001b[39m\u001b[39m.\u001b[39mcommand_executor\u001b[39m.\u001b[39mexecute(driver_command, params)\n\u001b[1;32m    439\u001b[0m \u001b[39mif\u001b[39;00m response:\n\u001b[0;32m--> 440\u001b[0m     \u001b[39mself\u001b[39;49m\u001b[39m.\u001b[39;49merror_handler\u001b[39m.\u001b[39;49mcheck_response(response)\n\u001b[1;32m    441\u001b[0m     response[\u001b[39m\"\u001b[39m\u001b[39mvalue\u001b[39m\u001b[39m\"\u001b[39m] \u001b[39m=\u001b[39m \u001b[39mself\u001b[39m\u001b[39m.\u001b[39m_unwrap_value(response\u001b[39m.\u001b[39mget(\u001b[39m\"\u001b[39m\u001b[39mvalue\u001b[39m\u001b[39m\"\u001b[39m, \u001b[39mNone\u001b[39;00m))\n\u001b[1;32m    442\u001b[0m     \u001b[39mreturn\u001b[39;00m response\n",
      "File \u001b[0;32m~/opt/miniconda3/lib/python3.9/site-packages/selenium/webdriver/remote/errorhandler.py:245\u001b[0m, in \u001b[0;36mErrorHandler.check_response\u001b[0;34m(self, response)\u001b[0m\n\u001b[1;32m    243\u001b[0m         alert_text \u001b[39m=\u001b[39m value[\u001b[39m\"\u001b[39m\u001b[39malert\u001b[39m\u001b[39m\"\u001b[39m]\u001b[39m.\u001b[39mget(\u001b[39m\"\u001b[39m\u001b[39mtext\u001b[39m\u001b[39m\"\u001b[39m)\n\u001b[1;32m    244\u001b[0m     \u001b[39mraise\u001b[39;00m exception_class(message, screen, stacktrace, alert_text)  \u001b[39m# type: ignore[call-arg]  # mypy is not smart enough here\u001b[39;00m\n\u001b[0;32m--> 245\u001b[0m \u001b[39mraise\u001b[39;00m exception_class(message, screen, stacktrace)\n",
      "\u001b[0;31mNoSuchWindowException\u001b[0m: Message: no such window: target window already closed\nfrom unknown error: web view not found\n  (Session info: chrome=112.0.5615.137)\nStacktrace:\n0   chromedriver                        0x00000001012d1670 chromedriver + 4298352\n1   chromedriver                        0x00000001012c9bbc chromedriver + 4266940\n2   chromedriver                        0x0000000100efc758 chromedriver + 280408\n3   chromedriver                        0x0000000100ed6cc8 chromedriver + 126152\n4   chromedriver                        0x0000000100f5caac chromedriver + 674476\n5   chromedriver                        0x0000000100f6f890 chromedriver + 751760\n6   chromedriver                        0x0000000100f2a2d0 chromedriver + 467664\n7   chromedriver                        0x0000000100f2b354 chromedriver + 471892\n8   chromedriver                        0x00000001012916c4 chromedriver + 4036292\n9   chromedriver                        0x0000000101295c64 chromedriver + 4054116\n10  chromedriver                        0x000000010129c2d8 chromedriver + 4080344\n11  chromedriver                        0x0000000101296970 chromedriver + 4057456\n12  chromedriver                        0x000000010126d8dc chromedriver + 3889372\n13  chromedriver                        0x00000001012b525c chromedriver + 4182620\n14  chromedriver                        0x00000001012b53b4 chromedriver + 4182964\n15  chromedriver                        0x00000001012c40f4 chromedriver + 4243700\n16  libsystem_pthread.dylib             0x0000000193b1c26c _pthread_start + 148\n17  libsystem_pthread.dylib             0x0000000193b1708c thread_start + 8\n"
     ]
    }
   ],
   "source": []
  },
  {
   "cell_type": "code",
   "execution_count": 83,
   "metadata": {},
   "outputs": [
    {
     "name": "stderr",
     "output_type": "stream",
     "text": [
      "/var/folders/g8/bg0h24y523q9pwn2yvvhsc900000gn/T/ipykernel_43879/3615139628.py:4: DeprecationWarning: executable_path has been deprecated, please pass in a Service object\n",
      "  driver_detail = webdriver.Chrome(ChromeDriverManager().install(), options=webdriver_options )\n"
     ]
    }
   ],
   "source": [
    "webdriver_options = webdriver.ChromeOptions()\n",
    "# webdriver_options.add_argument('headless') # 화면 안보이기\n",
    "\n",
    "driver_detail = webdriver.Chrome(ChromeDriverManager().install(), options=webdriver_options )\n",
    "driver_detail.get(theater_name_url)\n",
    "driver_detail.implicitly_wait(2)"
   ]
  },
  {
   "cell_type": "code",
   "execution_count": 84,
   "metadata": {},
   "outputs": [],
   "source": [
    "driver_detail.find_element(By.CSS_SELECTOR, '#contents > div.inner-wrap.pt40 > div.tab-list.fixed.mb40.tab-layer > ul > li:nth-child(2) > a').click()"
   ]
  },
  {
   "cell_type": "code",
   "execution_count": 87,
   "metadata": {},
   "outputs": [],
   "source": [
    "driver_detail.find_element(By.CSS_SELECTOR, '#tab02 > div.time-schedule.mb30 > div > div.date-list > div.date-area > div > button:nth-child(3)').click()"
   ]
  },
  {
   "cell_type": "code",
   "execution_count": 88,
   "metadata": {},
   "outputs": [
    {
     "data": {
      "text/plain": [
       "8"
      ]
     },
     "execution_count": 88,
     "metadata": {},
     "output_type": "execute_result"
    }
   ],
   "source": [
    "movie_elements = driver_detail.find_elements(By.CSS_SELECTOR, '#tab02 > div.reserve.theater-list-box > div.theater-list')\n",
    "len(movie_elements)"
   ]
  },
  {
   "cell_type": "code",
   "execution_count": null,
   "metadata": {},
   "outputs": [],
   "source": []
  },
  {
   "cell_type": "code",
   "execution_count": null,
   "metadata": {},
   "outputs": [],
   "source": [
    "#tab02 > div.reserve.theater-list-box > div:nth-child(2) > div.theater-tit > p:nth-child(2) > a"
   ]
  },
  {
   "cell_type": "code",
   "execution_count": 90,
   "metadata": {},
   "outputs": [
    {
     "data": {
      "text/plain": [
       "'슈퍼 마리오 브라더스'"
      ]
     },
     "execution_count": 90,
     "metadata": {},
     "output_type": "execute_result"
    }
   ],
   "source": [
    "movie_elements[0].find_element(By.CSS_SELECTOR, 'div.theater-tit > p > a').text"
   ]
  },
  {
   "cell_type": "code",
   "execution_count": 74,
   "metadata": {},
   "outputs": [
    {
     "data": {
      "text/plain": [
       "'드림'"
      ]
     },
     "execution_count": 74,
     "metadata": {},
     "output_type": "execute_result"
    }
   ],
   "source": [
    "movie_elements[1].find_element(By.CSS_SELECTOR, 'div.theater-tit > p:nth-child(2) > a').text"
   ]
  },
  {
   "attachments": {},
   "cell_type": "markdown",
   "metadata": {},
   "source": [
    "#tab02 > div.reserve.theater-list-box > div.theater-list"
   ]
  },
  {
   "attachments": {},
   "cell_type": "markdown",
   "metadata": {},
   "source": [
    "div.theater-type-box > div.theater-time > div.theater-time-box > table > tbody > tr > td > div > div > a > p.time"
   ]
  },
  {
   "attachments": {},
   "cell_type": "markdown",
   "metadata": {},
   "source": [
    "div.theater-type-box > div.theater-time > div.theater-time-box > table > tbody > tr > td > div > div > a > p.time"
   ]
  },
  {
   "attachments": {},
   "cell_type": "markdown",
   "metadata": {},
   "source": [
    "div.theater-type-box > div.theater-time > div.theater-time-box > table > tbody > tr > td > div > div.txt-center > a > p.time"
   ]
  },
  {
   "cell_type": "code",
   "execution_count": null,
   "metadata": {},
   "outputs": [],
   "source": [
    "'#tab02 > div.reserve.theater-list-box > div:nth-child(3) > div:nth-child(3) > div.theater-time > div.theater-time-box > table > tbody > tr > td > div > div > a > p.time'"
   ]
  },
  {
   "attachments": {},
   "cell_type": "markdown",
   "metadata": {},
   "source": [
    "#tab02 > div.reserve.theater-list-box > div.theater-list"
   ]
  },
  {
   "cell_type": "code",
   "execution_count": 94,
   "metadata": {},
   "outputs": [
    {
     "data": {
      "text/plain": [
       "11"
      ]
     },
     "execution_count": 94,
     "metadata": {},
     "output_type": "execute_result"
    }
   ],
   "source": [
    "start_times = movie_elements[0].find_elements(By.CSS_SELECTOR , 'div.theater-type-box > div.theater-time > div.theater-time-box > table > tbody > tr > td > div > div.txt-center > a > p.time')\n",
    "len(start_times)"
   ]
  },
  {
   "cell_type": "code",
   "execution_count": 76,
   "metadata": {},
   "outputs": [
    {
     "data": {
      "text/plain": [
       "'22:00'"
      ]
     },
     "execution_count": 76,
     "metadata": {},
     "output_type": "execute_result"
    }
   ],
   "source": [
    "start_times[0].text"
   ]
  },
  {
   "cell_type": "code",
   "execution_count": 77,
   "metadata": {},
   "outputs": [
    {
     "ename": "SyntaxError",
     "evalue": "illegal target for annotation (2504206450.py, line 1)",
     "output_type": "error",
     "traceback": [
      "\u001b[0;36m  Cell \u001b[0;32mIn[77], line 1\u001b[0;36m\u001b[0m\n\u001b[0;31m    div.theater-type-box > div.theater-time > div.theater-time-box > table > tbody > tr > td:nth-child(1) > div > div > a > p.time\u001b[0m\n\u001b[0m    ^\u001b[0m\n\u001b[0;31mSyntaxError\u001b[0m\u001b[0;31m:\u001b[0m illegal target for annotation\n"
     ]
    }
   ],
   "source": [
    "div.theater-type-box > div.theater-time > div.theater-time-box > table > tbody > tr > td:nth-child(1) > div > div > a > p.time"
   ]
  },
  {
   "cell_type": "code",
   "execution_count": null,
   "metadata": {},
   "outputs": [],
   "source": [
    "#tab02 > div.reserve.theater-list-box > div:nth-child(2) > div.theater-type-box > div.theater-time > div.theater-time-box > table > tbody > tr > td:nth-child(1) > div > div > a > p.time"
   ]
  },
  {
   "cell_type": "code",
   "execution_count": 96,
   "metadata": {},
   "outputs": [],
   "source": [
    "movie_total = pd.DataFrame(['a','b', 'c'])"
   ]
  },
  {
   "cell_type": "code",
   "execution_count": 97,
   "metadata": {},
   "outputs": [],
   "source": [
    "movie_total.to_csv(f'output_file/test{datetime.datetime.now()}', encoding='utf-8', index = False )"
   ]
  },
  {
   "attachments": {},
   "cell_type": "markdown",
   "metadata": {},
   "source": [
    "## 함수 구현"
   ]
  },
  {
   "cell_type": "code",
   "execution_count": 57,
   "metadata": {},
   "outputs": [
    {
     "name": "stderr",
     "output_type": "stream",
     "text": [
      "/var/folders/g8/bg0h24y523q9pwn2yvvhsc900000gn/T/ipykernel_43879/3258880229.py:51: DeprecationWarning: executable_path has been deprecated, please pass in a Service object\n",
      "  driver = webdriver.Chrome(ChromeDriverManager().install(), webdriver_options)\n"
     ]
    },
    {
     "ename": "WebDriverException",
     "evalue": "Message: Service /Users/parkdahye/.wdm/drivers/chromedriver/mac_arm64/112.0.5615.49/chromedriver unexpectedly exited. Status code was: 1\n",
     "output_type": "error",
     "traceback": [
      "\u001b[0;31m---------------------------------------------------------------------------\u001b[0m",
      "\u001b[0;31mWebDriverException\u001b[0m                        Traceback (most recent call last)",
      "Cell \u001b[0;32mIn[57], line 75\u001b[0m\n\u001b[1;32m     70\u001b[0m     movie_total\u001b[39m.\u001b[39mto_csv(\u001b[39mf\u001b[39m\u001b[39m'\u001b[39m\u001b[39m/output_file/메가박스 상영시간_\u001b[39m\u001b[39m{\u001b[39;00mdatetime\u001b[39m.\u001b[39mdatetime\u001b[39m.\u001b[39mnow()\u001b[39m}\u001b[39;00m\u001b[39m'\u001b[39m, encoding\u001b[39m=\u001b[39m\u001b[39m'\u001b[39m\u001b[39mutf-8\u001b[39m\u001b[39m'\u001b[39m, index \u001b[39m=\u001b[39m \u001b[39mFalse\u001b[39;00m )\n\u001b[1;32m     71\u001b[0m     driver\u001b[39m.\u001b[39mquit()\n\u001b[0;32m---> 75\u001b[0m megabox_crawl()\n",
      "Cell \u001b[0;32mIn[57], line 51\u001b[0m, in \u001b[0;36mmegabox_crawl\u001b[0;34m()\u001b[0m\n\u001b[1;32m     48\u001b[0m webdriver_options \u001b[39m=\u001b[39m webdriver\u001b[39m.\u001b[39mChromeOptions()\n\u001b[1;32m     49\u001b[0m \u001b[39m# webdriver_options.add_argument('headless') # 화면 안보이기\u001b[39;00m\n\u001b[0;32m---> 51\u001b[0m driver \u001b[39m=\u001b[39m webdriver\u001b[39m.\u001b[39;49mChrome(ChromeDriverManager()\u001b[39m.\u001b[39;49minstall(), webdriver_options)\n\u001b[1;32m     53\u001b[0m driver\u001b[39m.\u001b[39mget(main_url)\n\u001b[1;32m     55\u001b[0m \u001b[39m# 서울, 경기, 인천\u001b[39;00m\n",
      "File \u001b[0;32m~/opt/miniconda3/lib/python3.9/site-packages/selenium/webdriver/chrome/webdriver.py:80\u001b[0m, in \u001b[0;36mWebDriver.__init__\u001b[0;34m(self, executable_path, port, options, service_args, desired_capabilities, service_log_path, chrome_options, service, keep_alive)\u001b[0m\n\u001b[1;32m     77\u001b[0m \u001b[39mif\u001b[39;00m \u001b[39mnot\u001b[39;00m service:\n\u001b[1;32m     78\u001b[0m     service \u001b[39m=\u001b[39m Service(executable_path, port, service_args, service_log_path)\n\u001b[0;32m---> 80\u001b[0m \u001b[39msuper\u001b[39;49m()\u001b[39m.\u001b[39;49m\u001b[39m__init__\u001b[39;49m(\n\u001b[1;32m     81\u001b[0m     DesiredCapabilities\u001b[39m.\u001b[39;49mCHROME[\u001b[39m\"\u001b[39;49m\u001b[39mbrowserName\u001b[39;49m\u001b[39m\"\u001b[39;49m],\n\u001b[1;32m     82\u001b[0m     \u001b[39m\"\u001b[39;49m\u001b[39mgoog\u001b[39;49m\u001b[39m\"\u001b[39;49m,\n\u001b[1;32m     83\u001b[0m     port,\n\u001b[1;32m     84\u001b[0m     options,\n\u001b[1;32m     85\u001b[0m     service_args,\n\u001b[1;32m     86\u001b[0m     desired_capabilities,\n\u001b[1;32m     87\u001b[0m     service_log_path,\n\u001b[1;32m     88\u001b[0m     service,\n\u001b[1;32m     89\u001b[0m     keep_alive,\n\u001b[1;32m     90\u001b[0m )\n",
      "File \u001b[0;32m~/opt/miniconda3/lib/python3.9/site-packages/selenium/webdriver/chromium/webdriver.py:101\u001b[0m, in \u001b[0;36mChromiumDriver.__init__\u001b[0;34m(self, browser_name, vendor_prefix, port, options, service_args, desired_capabilities, service_log_path, service, keep_alive)\u001b[0m\n\u001b[1;32m     98\u001b[0m     \u001b[39mraise\u001b[39;00m \u001b[39mAttributeError\u001b[39;00m(\u001b[39m\"\u001b[39m\u001b[39mservice cannot be None\u001b[39m\u001b[39m\"\u001b[39m)\n\u001b[1;32m    100\u001b[0m \u001b[39mself\u001b[39m\u001b[39m.\u001b[39mservice \u001b[39m=\u001b[39m service\n\u001b[0;32m--> 101\u001b[0m \u001b[39mself\u001b[39;49m\u001b[39m.\u001b[39;49mservice\u001b[39m.\u001b[39;49mstart()\n\u001b[1;32m    103\u001b[0m \u001b[39mtry\u001b[39;00m:\n\u001b[1;32m    104\u001b[0m     \u001b[39msuper\u001b[39m()\u001b[39m.\u001b[39m\u001b[39m__init__\u001b[39m(\n\u001b[1;32m    105\u001b[0m         command_executor\u001b[39m=\u001b[39mChromiumRemoteConnection(\n\u001b[1;32m    106\u001b[0m             remote_server_addr\u001b[39m=\u001b[39m\u001b[39mself\u001b[39m\u001b[39m.\u001b[39mservice\u001b[39m.\u001b[39mservice_url,\n\u001b[0;32m   (...)\u001b[0m\n\u001b[1;32m    112\u001b[0m         options\u001b[39m=\u001b[39moptions,\n\u001b[1;32m    113\u001b[0m     )\n",
      "File \u001b[0;32m~/opt/miniconda3/lib/python3.9/site-packages/selenium/webdriver/common/service.py:106\u001b[0m, in \u001b[0;36mService.start\u001b[0;34m(self)\u001b[0m\n\u001b[1;32m    104\u001b[0m count \u001b[39m=\u001b[39m \u001b[39m0\u001b[39m\n\u001b[1;32m    105\u001b[0m \u001b[39mwhile\u001b[39;00m \u001b[39mTrue\u001b[39;00m:\n\u001b[0;32m--> 106\u001b[0m     \u001b[39mself\u001b[39;49m\u001b[39m.\u001b[39;49massert_process_still_running()\n\u001b[1;32m    107\u001b[0m     \u001b[39mif\u001b[39;00m \u001b[39mself\u001b[39m\u001b[39m.\u001b[39mis_connectable():\n\u001b[1;32m    108\u001b[0m         \u001b[39mbreak\u001b[39;00m\n",
      "File \u001b[0;32m~/opt/miniconda3/lib/python3.9/site-packages/selenium/webdriver/common/service.py:119\u001b[0m, in \u001b[0;36mService.assert_process_still_running\u001b[0;34m(self)\u001b[0m\n\u001b[1;32m    117\u001b[0m return_code \u001b[39m=\u001b[39m \u001b[39mself\u001b[39m\u001b[39m.\u001b[39mprocess\u001b[39m.\u001b[39mpoll()\n\u001b[1;32m    118\u001b[0m \u001b[39mif\u001b[39;00m return_code:\n\u001b[0;32m--> 119\u001b[0m     \u001b[39mraise\u001b[39;00m WebDriverException(\u001b[39mf\u001b[39m\u001b[39m\"\u001b[39m\u001b[39mService \u001b[39m\u001b[39m{\u001b[39;00m\u001b[39mself\u001b[39m\u001b[39m.\u001b[39mpath\u001b[39m}\u001b[39;00m\u001b[39m unexpectedly exited. Status code was: \u001b[39m\u001b[39m{\u001b[39;00mreturn_code\u001b[39m}\u001b[39;00m\u001b[39m\"\u001b[39m)\n",
      "\u001b[0;31mWebDriverException\u001b[0m: Message: Service /Users/parkdahye/.wdm/drivers/chromedriver/mac_arm64/112.0.5615.49/chromedriver unexpectedly exited. Status code was: 1\n"
     ]
    }
   ],
   "source": [
    "def theater_crawl(result, theater_name, theater_name_url):\n",
    "    '''영화관 지점별 크롤링'''\n",
    "    \n",
    "    webdriver_options = webdriver.ChromeOptions()\n",
    "    # webdriver_options.add_argument('headless') # 화면 안보이기\n",
    "\n",
    "    driver_detail = webdriver.Chrome(ChromeDriverManager().install(), options=webdriver_options )\n",
    "    driver_detail.get(theater_name_url)\n",
    "    driver_detail.implicitly_wait(2)\n",
    "\n",
    "    # 상영시간표 누르기\n",
    "    driver_detail.find_element(By.CSS_SELECTOR, '#contents > div.inner-wrap.pt40 > div.tab-list.fixed.mb40.tab-layer > ul > li.on > a').click()\n",
    "    driver_detail.implicitly_wait(2)\n",
    "\n",
    "    # 영화 제목별 ex) 슈퍼마리오\n",
    "    movie_elements = driver_detail.find_elements(By.CSS_SELECTOR, '#tab02 > div.reserve.theater-list-box > div')\n",
    "    for movie_element in movie_elements:\n",
    "        movie_title = movie_element.find_element(By.CSS_SELECTOR, 'div.theater-tit > p:nth-child(2) > a').text\n",
    "        start_time_elements = movie_elements.find_elements(By.CSS_SELECTOR , 'div.theater-type-box > div.theater-time > div.theater-time-box > table > tbody > tr > td > div > div.txt-center > a > p.time')\n",
    "        for start_time_element in start_time_elements:\n",
    "            # 상영 시각\n",
    "            start_time = start_time_element.text\n",
    "            result.append(['MEGABOX']+ [theater_name]+ ['']+ [movie_title] + [start_time])\n",
    "    \n",
    "    driver_detail.quit()\n",
    "    \n",
    "\n",
    "\n",
    "def location_crawl(driver, location_element):\n",
    "    '''지역별 크롤링'''\n",
    "    result = []\n",
    "    location_element.click()\n",
    "    theater_name_elements = driver.find_elements(By.CSS_SELECTOR, 'div.theater-place > ul > li.on > div > ul > li > a')\n",
    "\n",
    "\n",
    "    for theater_name_element in theater_name_elements:\n",
    "        theater_name_url = theater_name_element.get_attribute('href')\n",
    "        theater_name = theater_name_element.text\n",
    "\n",
    "        # 지점별 상영시간 크롤링 \n",
    "        theater_crawl(result, theater_name, theater_name_url)\n",
    "    \n",
    "    movie_tbl = pd.DataFrame(result,  columns=('theater_type'  'theater_name' 'location' 'movie_title' 'start_time' 'run_time'))\n",
    "    return movie_tbl\n",
    "        \n",
    "def megabox_crawl():\n",
    "    main_url = 'https://www.megabox.co.kr/theater/list'\n",
    "    webdriver_options = webdriver.ChromeOptions()\n",
    "    # webdriver_options.add_argument('headless') # 화면 안보이기\n",
    "\n",
    "    driver = webdriver.Chrome(ChromeDriverManager().install(), webdriver_options)\n",
    "\n",
    "    driver.get(main_url)\n",
    "\n",
    "    # 서울, 경기, 인천\n",
    "    location_elements = driver.find_elements(By.CSS_SELECTOR, 'li.on > button')\n",
    "\n",
    "    # 앞 3개만 크롤링 (서울, 경기, 인천) / 0, 1, 2\n",
    "    location = {0:'서울', 1:'경기/인천', 2:'경기/인천'}\n",
    "    for i in range(3):\n",
    "        \n",
    "        movie_tbl = location_crawl(driver, location_elements[i])\n",
    "        movie_tbl['location'] = location[i]\n",
    "    \n",
    "    try:\n",
    "        movie_total = pd.concat([movie_total, movie_tbl])\n",
    "    except:\n",
    "        movie_total = movie_tbl\n",
    "    \n",
    "    movie_total.to_csv(f'/output_file/메가박스 상영시간_{datetime.datetime.now()}', encoding='utf-8', index = False )\n",
    "    driver.quit()\n",
    "\n",
    "    \n",
    "\n",
    "megabox_crawl()\n",
    "    "
   ]
  },
  {
   "cell_type": "code",
   "execution_count": null,
   "metadata": {},
   "outputs": [],
   "source": [
    "from bs4 import BeautifulSoup\n",
    "import urllib.request\n",
    "import pandas as pd\n",
    "import numpy as np\n",
    "import datetime\n",
    "from selenium import webdriver\n",
    "from selenium.webdriver.chrome.service import Service #\n",
    "from webdriver_manager.chrome import ChromeDriverManager # \n",
    "import time \n",
    "import os\n",
    "import traceback\n",
    "import re\n",
    "\n",
    "from bs4 import BeautifulSoup\n",
    "\n",
    "class StartupCrawler:\n",
    "\n",
    "    def __init__(self):\n",
    "        self.category_list = ['commerce', 'education', 'it-hardware', \n",
    "        'machinery', 'game', 'software', 'consumer-goods', 'mobile', 'it-service', \n",
    "        'chemical', 'others', 'web-service', 'security', 'material', 'ads-marketing',\n",
    "        'design',  'metal', 'contents', 'healthcare', 'instruments'\n",
    "        ]\n",
    "         \n",
    "\n",
    "\n",
    "    def set_params(self, **kwargs):\n",
    "        # 주간 월간? \n",
    "        '''\n",
    "        파라미터 지정\n",
    "        {period : 기간 ex) 주간 weekly, 월간 monthly, 누적 total,\n",
    "        \n",
    "        output_file : 파일 저장 경로 ex) ..data/naver_news_{section}_{start_date}-{end_date}.csv}\n",
    "        '''\n",
    "        self.today = ''.join((str(datetime.datetime.now().date())).split('-')) # 20220103\n",
    "        \n",
    "\n",
    "        self.period = kwargs[\"period\"] if \"period\" in kwargs.keys() else 'weekly' # 디폴트 주간\n",
    "        url_dic = {'weekly' : 'http://www.demoday.co.kr/companies/rank/weekly',\n",
    "        'monthly' : 'http://www.demoday.co.kr/companies/rank/monthly',\n",
    "        'total' : 'http://www.demoday.co.kr/companies/rank/total'}\n",
    "\n",
    "        self.url = url_dic[self.period]\n",
    "\n",
    "        self.output_file = (\n",
    "            kwargs[\"output_file\"] if \"output_file\" in kwargs.keys() else '../data/startup_Demoday_{period}_{self.today}.csv'\n",
    "        )\n",
    "        self.output_file_cat = (\n",
    "            kwargs[\"output_file\"] if \"output_file\" in kwargs.keys() else '../data/startup_Demoday_category_{self.today}.csv'\n",
    "        )\n",
    "        self.output_file_rank = (\n",
    "            kwargs[\"output_file\"] if \"output_file\" in kwargs.keys() else '../data/startup_Demoday_ranking_{period}_{self.today}.csv'\n",
    "        )\n",
    "\n",
    "\n",
    "    def crawl_details_pages(self, ranking):\n",
    "        '''\n",
    "        세부페이지 크롤링 100개 \n",
    "        '''\n",
    "\n",
    "\n",
    "        result = []\n",
    "\n",
    "        \n",
    "        for r in ranking:\n",
    "            \n",
    "            detail_url = r.find_element_by_css_selector('a').get_attribute('href')\n",
    "\n",
    "            # 순위\n",
    "            rank = re.findall(r'[\\d]+', r.find_element_by_css_selector('span').text)[0]\n",
    "            webdriver_options = webdriver.ChromeOptions()\n",
    "            webdriver_options.add_argument('headless') # 화면 안보이기\n",
    "            driver_detail = webdriver.Chrome('/Users/parkdahye/Documents/python_workspace/chromedriver', options=webdriver_options )\n",
    "            driver_detail.get(detail_url)\n",
    "            driver_detail.implicitly_wait(2)\n",
    "            time.sleep(np.random.randint(1,3))\n",
    "            soup_detail = BeautifulSoup(driver_detail.page_source) \n",
    "            driver_detail.close()\n",
    "\n",
    "            # 회사 이름\n",
    "            name_ko = soup_detail.select('#info > h1')[0].text\n",
    "            # 회사 영어 이름\n",
    "            try:\n",
    "                name_eg = re.findall('[A-z\\d\\s]+' , soup_detail.select('#info > span')[0].text)[0]\n",
    "            except:\n",
    "                name_eg = None\n",
    "            # 설명\n",
    "            try:\n",
    "                discription = soup_detail.select('#info > p')[0].text\n",
    "            except:\n",
    "                discription = None\n",
    "\n",
    "            # 대표자\n",
    "            representative = soup_detail.select('#company_details > li:nth-child(1) > span.value')[0].text\n",
    "\n",
    "            # 설립년도\n",
    "            listing_date = soup_detail.select('#company_details > li:nth-child(2) > span.value')[0].text\n",
    "\n",
    "            # 카테고리\n",
    "            sector = soup_detail.select('#company_details > li:nth-child(4) > span.value')[0].text\n",
    "\n",
    "            # 홈페이지\n",
    "            try:\n",
    "                homepage = soup_detail.select('#company_details > li:nth-child(6) > span.value > a')[0].text\n",
    "            except:\n",
    "                homepage = None\n",
    "\n",
    "            # 사업분야 플랫폼\n",
    "            try:\n",
    "                business_areas = soup_detail.select('#company_details > li:nth-child(5) > span.value')[0].text\n",
    "            except:\n",
    "                business_areas = None\n",
    "\n",
    "            # 페이스북 링크\n",
    "            try:\n",
    "                link_facebook = soup_detail.select('#company_details > li:nth-child(7) > span.value > a')[0].text\n",
    "            except: \n",
    "                link_facebook = None\n",
    "\n",
    "            # 트위터 링크\n",
    "            try:\n",
    "                link_twitter = soup_detail.select('#company_details > li:nth-child(8) > span.value > a')[0].text\n",
    "            # link_twitter = None if link_twitter == 'N/A' else link_twitter\n",
    "            except:\n",
    "                link_twitter = None\n",
    "\n",
    "            # 블로그 링크 \n",
    "            try:\n",
    "                link_blog = soup_detail.select('#company_details > li:nth-child(9) > span.value> a')[0].text\n",
    "            # link_blog = None if link_blog == 'N/A' else link_blog\n",
    "            except:\n",
    "                link_blog = None\n",
    "\n",
    "            result.append([rank] + [name_ko] + [name_eg] + [discription] + [representative] + [listing_date] + [sector] + [homepage] + [business_areas] + [link_facebook] + [link_twitter] + [link_blog])\n",
    "            print(rank, '위 크롤링 완료')\n",
    "\n",
    "\n",
    "        startup_tbl = pd.DataFrame(result, columns=('rank', 'name_ko','name_eg', 'discription',  'representative','listing_date','sector',  'homepage',  'business_areas', 'link_facebook','link_twitter' ,'link_blog' ))\n",
    "\n",
    "        return startup_tbl\n",
    "\n",
    "\n",
    "\n",
    "\n",
    "\n",
    "\n",
    "    def crawling_ranking(self): \n",
    "        '''\n",
    "        메인 함수\n",
    "        '''\n",
    "\n",
    "        # 3페이지 크롤링 \n",
    "\n",
    "        # 1 페이지 \n",
    "        # 1 페이지 \n",
    "        url =  self.url\n",
    "\n",
    "\n",
    "        webdriver_options = webdriver.ChromeOptions()\n",
    "        # webdriver_options.add_argument('headless') # 화면 안보이기\n",
    "\n",
    "        driver = webdriver.Chrome('/Users/parkdahye/Documents/python_workspace/chromedriver', options=webdriver_options )\n",
    "        driver.get(url)\n",
    "        driver.implicitly_wait(2)\n",
    "        time.sleep(np.random.randint(1,3))  \n",
    "\n",
    "        page = 1\n",
    "        ranking = driver.find_elements_by_css_selector('body > div.container > div > div.contents-list-wrap > div.contents-list > ul > li > div > h3')\n",
    "        startup_tbl = self.crawl_details_pages(ranking)\n",
    "        startup_total = startup_tbl\n",
    "        print(f'{page}페이지 완료')\n",
    "\n",
    "    \n",
    "        while page < 3:\n",
    "            # 페이지 넘기기 \n",
    "            driver.find_element_by_css_selector('body > div.container > div > div:nth-child(3) > a').click()\n",
    "            ranking = driver.find_elements_by_css_selector('body > div.container > div > div.contents-list-wrap > div.contents-list > ul > li > div > h3')\n",
    "            page += 1\n",
    "\n",
    "            # 100개 \n",
    "            ranking = driver.find_elements_by_css_selector('body > div.container > div > div.contents-list-wrap > div.contents-list > ul > li > div > h3')\n",
    "            startup_tbl = self.crawl_details_pages(ranking)\n",
    "            startup_total = pd.concat([startup_total, startup_tbl])\n",
    "            print(f'{page}페이지 완료')\n",
    "        \n",
    "        # 파일 저장\n",
    "        startup_total.to_csv(self.output_file, encoding='utf-8', mode='w', index = False)\n",
    "\n",
    "        return startup_total\n",
    "            \n",
    "\n",
    "    # 데모데이 크롤링\n",
    "\n",
    "    def crawl_demo(self, url):\n",
    "        result = []\n",
    "\n",
    "        webdriver_options = webdriver.ChromeOptions()\n",
    "        webdriver_options.add_argument('headless') # 화면 안보이기\n",
    "        driver = webdriver.Chrome('/Users/parkdahye/Documents/python_workspace/chromedriver', options=webdriver_options )\n",
    "    \n",
    "        driver.get(url)\n",
    "        driver.implicitly_wait(2)\n",
    "        time.sleep(np.random.randint(1,3)) \n",
    "\n",
    "        # more 누르기\n",
    "\n",
    "        while True:\n",
    "            try:\n",
    "                driver.find_element_by_css_selector('body > div.container > div > a').click()\n",
    "                time.sleep(np.random.randint(1,3))  \n",
    "\n",
    "            except:\n",
    "                break\n",
    "\n",
    "        # 카테고리 안에 기업 목록  \n",
    "        cat_list = driver.find_elements_by_css_selector('h3.title > a')\n",
    "\n",
    "        for com in cat_list:\n",
    "            detail_url = com.get_attribute('href')\n",
    "\n",
    "\n",
    "            webdriver_options = webdriver.ChromeOptions()\n",
    "            webdriver_options.add_argument('headless') # 화면 안보이기\n",
    "            driver_detail = webdriver.Chrome('/Users/parkdahye/Documents/python_workspace/chromedriver', options=webdriver_options )\n",
    "            driver_detail.get(detail_url)\n",
    "            driver_detail.implicitly_wait(2)\n",
    "            time.sleep(np.random.randint(1,3))\n",
    "            soup_detail = BeautifulSoup(driver_detail.page_source) \n",
    "            driver_detail.close()\n",
    "\n",
    "            # 회사 이름\n",
    "            name_ko = soup_detail.select('#info > h1')[0].text\n",
    "            # 회사 영어 이름\n",
    "            try:\n",
    "                name_eg = re.findall('[A-z\\d\\s]+' , soup_detail.select('#info > span')[0].text)[0]\n",
    "            except:\n",
    "                name_eg = None\n",
    "            # 설명\n",
    "            try:\n",
    "                discription = soup_detail.select('#info > p')[0].text\n",
    "            except:\n",
    "                discription = None\n",
    "\n",
    "            # 대표자\n",
    "            representative = soup_detail.select('#company_details > li:nth-child(1) > span.value')[0].text\n",
    "\n",
    "            # 설립년도\n",
    "            listing_date = soup_detail.select('#company_details > li:nth-child(2) > span.value')[0].text\n",
    "\n",
    "            # 카테고리\n",
    "            sector = soup_detail.select('#company_details > li:nth-child(4) > span.value')[0].text\n",
    "\n",
    "            # 홈페이지\n",
    "            try:\n",
    "                homepage = soup_detail.select('#company_details > li:nth-child(6) > span.value > a')[0].text\n",
    "            except:\n",
    "                homepage = None\n",
    "\n",
    "            # 사업분야 플랫폼\n",
    "            try:\n",
    "                business_areas = soup_detail.select('#company_details > li:nth-child(5) > span.value')[0].text\n",
    "            except:\n",
    "                business_areas = None\n",
    "\n",
    "            # 페이스북 링크\n",
    "            try:\n",
    "                link_facebook = soup_detail.select('#company_details > li:nth-child(7) > span.value > a')[0].text\n",
    "            except: \n",
    "                link_facebook = None\n",
    "\n",
    "            # 트위터 링크\n",
    "            try:\n",
    "                link_twitter = soup_detail.select('#company_details > li:nth-child(8) > span.value > a')[0].text\n",
    "            # link_twitter = None if link_twitter == 'N/A' else link_twitter\n",
    "            except:\n",
    "                link_twitter = None\n",
    "\n",
    "            # 블로그 링크 \n",
    "            try:\n",
    "                link_blog = soup_detail.select('#company_details > li:nth-child(9) > span.value> a')[0].text\n",
    "            # link_blog = None if link_blog == 'N/A' else link_blog\n",
    "            except:\n",
    "                link_blog = None\n",
    "\n",
    "            result.append([''] + [name_ko] + [name_eg] + [discription] + [representative] + [listing_date] + [sector] + [homepage] + [business_areas] + [link_facebook] + [link_twitter] + [link_blog])\n",
    "            print(name_ko, '크롤링')\n",
    "\n",
    "\n",
    "        startup_tbl = pd.DataFrame(result, columns=('category', 'name_ko','name_eg', 'discription',  'representative','listing_date','sector',  'homepage',  'business_areas', 'link_facebook','link_twitter' ,'link_blog' ))\n",
    "\n",
    "        return startup_tbl\n",
    "\n",
    "\n",
    "    # 카테고리 크롤링\n",
    "    def crawling_category(self):\n",
    "\n",
    "        # 카테고리 돌기 \n",
    "        test = 1\n",
    "        for cat in self.category_list:\n",
    "            if test == 1:\n",
    "                if cat == 'education':\n",
    "                    break\n",
    "            print('====== ', cat, '크롤링 =====')\n",
    "            url = f'http://www.demoday.co.kr/companies/category/{cat}'\n",
    "            startup_tbl = self.crawl_demo(url)\n",
    "            startup_tbl['category'] = cat\n",
    "            print('====== ', cat, '크롤링 완료 =====')\n",
    "            \n",
    "            \n",
    "            try : \n",
    "                startup_total = pd.concat([startup_total, startup_tbl])\n",
    "            except:\n",
    "                startup_total = startup_tbl\n",
    "\n",
    "        # 파일 저장\n",
    "        startup_total.to_csv(self.output_file_cat, encoding='utf-8', mode='w', index = False)\n",
    "\n",
    "        return startup_total\n",
    "    \n",
    "    # 전체 크롤링\n",
    "    def crawling(self):\n",
    "        ranking_df = self.crawling_ranking()\n",
    "        category_df = self.crawling_category()\n",
    "\n",
    "        df = pd.merge(ranking_df, category_df, how='outer', on=['name_ko', 'name_eg', 'discription', 'representative', 'listing_date', 'sector', 'homepage', 'business_areas', 'link_facebook',\n",
    "       'link_twitter', 'link_blog'])\n",
    "        df.to_csv(self.output_file, encoding='utf-8', mode='w', index = False )\n",
    "        \n",
    "        return df\n",
    "\n",
    "       \n",
    "\n",
    "\n",
    "\n",
    "StartupCrawler = StartupCrawler()\n",
    "StartupCrawler.set_params(period = 'monthly')\n",
    "# NewsCrawler.output_file\n",
    "df = StartupCrawler.crawling()\n",
    "print(df)"
   ]
  }
 ],
 "metadata": {
  "kernelspec": {
   "display_name": "base",
   "language": "python",
   "name": "python3"
  },
  "language_info": {
   "codemirror_mode": {
    "name": "ipython",
    "version": 3
   },
   "file_extension": ".py",
   "mimetype": "text/x-python",
   "name": "python",
   "nbconvert_exporter": "python",
   "pygments_lexer": "ipython3",
   "version": "3.9.15"
  },
  "orig_nbformat": 4
 },
 "nbformat": 4,
 "nbformat_minor": 2
}
